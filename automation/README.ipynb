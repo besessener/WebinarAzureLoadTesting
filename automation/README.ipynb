{
 "cells": [
  {
   "cell_type": "markdown",
   "metadata": {},
   "source": [
    "# Azure Load Testing: Automation\n",
    "\n",
    "Azure Load Testing ist ein Dienst von Azure, mit dem man schnell und einfach hohe Lasten aus der Azure Cloud heraus mit Hilfe von Apache JMeter generieren kann:"
   ]
  },
  {
   "cell_type": "markdown",
   "metadata": {},
   "source": [
    "### Azure CLI\n",
    "\n",
    "Die Steuerung erfolgt komplett über die Azure CLI. Alle Schritte können vermutlich auch mit Terraform gelöst werden oder per Hand umgesetzt werden. Dafür installieren wir den CLI client über `scoop` und loggen uns dann ein:"
   ]
  },
  {
   "cell_type": "code",
   "execution_count": null,
   "metadata": {},
   "outputs": [],
   "source": [
    "!scoop install azure-cli"
   ]
  },
  {
   "cell_type": "code",
   "execution_count": null,
   "metadata": {},
   "outputs": [],
   "source": [
    "!az config set extension.use_dynamic_install=yes_without_prompt\n",
    "!az login\n",
    "!start https://portal.azure.com/"
   ]
  },
  {
   "cell_type": "markdown",
   "metadata": {},
   "source": [
    "Jetzt ist es möglich die Azure CLI Befehle direkt aus der Kommandozeile zu verwenden."
   ]
  },
  {
   "cell_type": "markdown",
   "metadata": {},
   "source": [
    "### Azure Web App\n",
    "\n",
    "Warum  machen wir das eigentlich? Im Endeffekt geht es darum, eine Applikation unter Last zu setzen und dann auszuwerten, wie sie sich verhält. Das bedeutet, dass wir zunächst eine App brauchen, die wir abtesten können. Dafür können wir eine ganz simple python app in Azure erstellen.\n",
    "Die App, die wir hier benutzen, besitzt 1 URL-Argument `sleep`, was in der App eine entsprechende Wartezeit auslöst. Die App berechnet nichts, aber über die `sleep`-Funktionalität kann man eine entsprechende Antwortzeit simulieren.\n",
    "Der Code der hier verwendeten Web-App (Python) befindet sich in einem Extra Github-Repository (https://github.com/besessener/SimplePythonAppDemo). Es handelt sich um eine sehr einfache Python Anwendung, mit der ich Last über einen `sleep` simulieren kann."
   ]
  },
  {
   "cell_type": "code",
   "execution_count": null,
   "metadata": {},
   "outputs": [],
   "source": [
    "!az appservice plan create --name QyteraAppPlan --resource-group Qload --sku FREE --is-linux --location germanywestcentral\n",
    "!az webapp create --resource-group Qload -p QyteraAppPlan -n QyteraWebApp --runtime \"python:3.10\" --deployment-source-url https://github.com/besessener/SimplePythonAppDemo.git"
   ]
  },
  {
   "cell_type": "markdown",
   "metadata": {},
   "source": [
    "### Azure Load Testing Aufsetzen\n",
    "\n",
    "Wir benutzen das Azure CLI jetzt, um eine Load Testing Ressource anzulegen. Dafür muss bereits eine `Resource Group` existieren: in diesem Beispiel heißt sie `Qload`. Zudem muss man der Load Testing Resource einen Namen geben: `QyteraLoadTesting`:"
   ]
  },
  {
   "cell_type": "code",
   "execution_count": null,
   "metadata": {},
   "outputs": [],
   "source": [
    "!az load create --name QyteraLoadTesting --resource-group Qload --location germanywestcentral"
   ]
  },
  {
   "cell_type": "markdown",
   "metadata": {},
   "source": [
    "### Einen Test Hinzufügen\n",
    "\n",
    "Dann fügen wir einen Test hinzu. Der Test beinhaltet direkt das JMX Script und eine CSV Datei. Dafür ist es hilfreich JMeter einmal zu öffnen und das Script anzusehen."
   ]
  },
  {
   "cell_type": "code",
   "execution_count": null,
   "metadata": {},
   "outputs": [],
   "source": [
    "!call jmeter -t ../jmeter/jmeter-script.jmx"
   ]
  },
  {
   "cell_type": "markdown",
   "metadata": {},
   "source": [
    "Jetzt laden wir das Script hoch und erstellen damit den Test (`<your APP ID>` ersetzen)."
   ]
  },
  {
   "cell_type": "code",
   "execution_count": null,
   "metadata": {},
   "outputs": [],
   "source": [
    "!az load test create --load-test-resource QyteraLoadTesting --test-id testrunner --display-name \"My CLI Load Test\" --description \"Created using Az CLI\" --test-plan \"../jmeter/jmeter-script.jmx\" --engine-instances 1 --resource-group Qload\n",
    "!az load test app-component add --test-id testrunner --load-test-resource QyteraLoadTesting --resource-group Qload --app-component-name QyteraWebApp --app-component-type  microsoft.web/sites --app-component-id \"<your APP ID>\" --app-component-kind web\n",
    "!az load test file upload --test-id testrunner --load-test-resource QyteraLoadTesting --resource-group Qload --path \"../jmeter/jmeter-data.csv\" --file-type ADDITIONAL_ARTIFACTS"
   ]
  },
  {
   "cell_type": "markdown",
   "metadata": {},
   "source": [
    "### Test Durchführen"
   ]
  },
  {
   "cell_type": "code",
   "execution_count": null,
   "metadata": {},
   "outputs": [],
   "source": [
    "!call az load test-run create --load-test-resource QyteraLoadTesting --resource-group Qload --test-id testrunner --test-run-id first --display-name first --description \"First Test run from CLI\" --env USER_COUNT=1"
   ]
  },
  {
   "cell_type": "markdown",
   "metadata": {},
   "source": [
    "### Auswertung\n",
    "\n",
    "Die Auswertung der Testläufe kann man nun wie gewohnt über das CLI machen:"
   ]
  },
  {
   "cell_type": "code",
   "execution_count": null,
   "metadata": {},
   "outputs": [],
   "source": [
    "import subprocess\n",
    "import json\n",
    "import matplotlib.pyplot as plt\n",
    "\n",
    "# 1. Execute the az command and get the output\n",
    "cmd = \"az load test-run metrics list --load-test-resource QyteraLoadTesting --resource-group Qload --test-run-id first --metric-namespace LoadTestRunMetrics --interval PT5S\"\n",
    "\n",
    "result = subprocess.run(cmd.split(), capture_output=True, text=True, shell=True)\n",
    "data = json.loads(result.stdout)\n",
    "\n",
    "# 2. Extract the timestamp and value from the JSON response for plotting\n",
    "timestamps = [entry[\"timestamp\"] for entry in data[\"ResponseTime\"][0][\"data\"]]\n",
    "values = [entry[\"value\"] for entry in data[\"ResponseTime\"][0][\"data\"]]\n",
    "\n",
    "# 3. Plot the data using matplotlib\n",
    "plt.figure(figsize=(10, 6))\n",
    "plt.plot(timestamps, values, '-o', label='Response Time')\n",
    "plt.xticks(rotation=45)\n",
    "plt.title('Response Time vs. Timestamp')\n",
    "plt.xlabel('Timestamp')\n",
    "plt.ylabel('Response Time (ms)')\n",
    "plt.tight_layout()\n",
    "plt.legend()\n",
    "plt.grid(True)\n",
    "plt.show()\n"
   ]
  },
  {
   "cell_type": "markdown",
   "metadata": {},
   "source": [
    "oder auch per GUI."
   ]
  },
  {
   "cell_type": "markdown",
   "metadata": {},
   "source": [
    "## Aufräumen\n",
    "\n",
    "Um sicher zu gehen, dass keine zusätzlichen Kosten anfallen, sollte man am Ende auch alle unbenutzten Resourcen einfach wieder löschen:"
   ]
  },
  {
   "cell_type": "code",
   "execution_count": null,
   "metadata": {},
   "outputs": [],
   "source": [
    "!az webapp delete --resource-group Qload --name QyteraWebApp\n",
    "!az load test delete --load-test-resource QyteraLoadTesting --resource-group Qload --test-id testrunner --yes\n",
    "!az load delete --name QyteraLoadTesting --resource-group Qload --yes"
   ]
  }
 ],
 "metadata": {
  "kernelspec": {
   "display_name": "Python 3",
   "language": "python",
   "name": "python3"
  },
  "language_info": {
   "codemirror_mode": {
    "name": "ipython",
    "version": 3
   },
   "file_extension": ".py",
   "mimetype": "text/x-python",
   "name": "python",
   "nbconvert_exporter": "python",
   "pygments_lexer": "ipython3",
   "version": "3.11.8"
  }
 },
 "nbformat": 4,
 "nbformat_minor": 2
}
